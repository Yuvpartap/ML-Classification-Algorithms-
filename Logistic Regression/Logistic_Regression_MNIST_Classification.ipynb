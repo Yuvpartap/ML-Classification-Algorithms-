{
  "nbformat": 4,
  "nbformat_minor": 0,
  "metadata": {
    "colab": {
      "name": "15March_Logistic_2.1&2.2.ipynb",
      "provenance": []
    },
    "kernelspec": {
      "name": "python3",
      "display_name": "Python 3"
    },
    "language_info": {
      "name": "python"
    }
  },
  "cells": [
    {
      "cell_type": "markdown",
      "source": [
        "## **Experiment - 2.1 and 2.2**\n",
        "**Student Name - Yuvpartap Singh Klair**    \n",
        "**Student UID - 20BCS6448**    \n",
        "**Class and Group - PHAIML-2A**   \n",
        "**Date of Performance - 23/03/2022**"
      ],
      "metadata": {
        "id": "oxBMmVAh_5d-"
      }
    },
    {
      "cell_type": "code",
      "execution_count": 1,
      "metadata": {
        "id": "GPbvP_6dOBmL"
      },
      "outputs": [],
      "source": [
        "'''\n",
        "MNIST data set - Inbuilt data set that consists of 70,000 small images of digits handwritten by high school students and employees of the US\n",
        "* Images are well labeled with respective digit they represent\n",
        "* It is like a hello world for ML. When a new algo is designed it is was tested on mnist dataset\n",
        "* Each image consists of 2828 pixels and each feature represent one pixel intensity from 0 to 255.\n",
        "* If the intensity is zero then pixel is white, if 255 then it is black\n",
        "'''\n",
        "#Using Scikit learn\n",
        "\n",
        "!pip install scikit-learn --upgrade --quiet"
      ]
    },
    {
      "cell_type": "code",
      "source": [
        "import numpy as np\n",
        "import pandas as pd\n",
        "from sklearn.datasets import fetch_openml # already available dataset in sklearn will be fetched using this"
      ],
      "metadata": {
        "id": "pNpGytx2RUK0"
      },
      "execution_count": 2,
      "outputs": []
    },
    {
      "cell_type": "code",
      "source": [
        "mnist = fetch_openml('mnist_784') #This works fine but can give error at later stages\n",
        "mnist = fetch_openml('mnist_784', version =1, as_frame = False) # a better version  \n",
        "# if the as_frame parameter is true then the X nd y variables will be presented in a pandas dataframe. if false then data will be presented in an array\n",
        "mnist.keys() #variables in the dataset"
      ],
      "metadata": {
        "colab": {
          "base_uri": "https://localhost:8080/"
        },
        "id": "aHUNOzEwRzYM",
        "outputId": "09a2b755-317f-422b-a80e-bc4c8d9cae7e"
      },
      "execution_count": 3,
      "outputs": [
        {
          "output_type": "execute_result",
          "data": {
            "text/plain": [
              "dict_keys(['data', 'target', 'frame', 'categories', 'feature_names', 'target_names', 'DESCR', 'details', 'url'])"
            ]
          },
          "metadata": {},
          "execution_count": 3
        }
      ]
    },
    {
      "cell_type": "code",
      "source": [
        "mnist"
      ],
      "metadata": {
        "colab": {
          "base_uri": "https://localhost:8080/"
        },
        "id": "P5RLssqkSweb",
        "outputId": "7fc6d181-91bb-4e0b-83bf-f51397f407eb"
      },
      "execution_count": 4,
      "outputs": [
        {
          "output_type": "execute_result",
          "data": {
            "text/plain": [
              "{'DESCR': \"**Author**: Yann LeCun, Corinna Cortes, Christopher J.C. Burges  \\n**Source**: [MNIST Website](http://yann.lecun.com/exdb/mnist/) - Date unknown  \\n**Please cite**:  \\n\\nThe MNIST database of handwritten digits with 784 features, raw data available at: http://yann.lecun.com/exdb/mnist/. It can be split in a training set of the first 60,000 examples, and a test set of 10,000 examples  \\n\\nIt is a subset of a larger set available from NIST. The digits have been size-normalized and centered in a fixed-size image. It is a good database for people who want to try learning techniques and pattern recognition methods on real-world data while spending minimal efforts on preprocessing and formatting. The original black and white (bilevel) images from NIST were size normalized to fit in a 20x20 pixel box while preserving their aspect ratio. The resulting images contain grey levels as a result of the anti-aliasing technique used by the normalization algorithm. the images were centered in a 28x28 image by computing the center of mass of the pixels, and translating the image so as to position this point at the center of the 28x28 field.  \\n\\nWith some classification methods (particularly template-based methods, such as SVM and K-nearest neighbors), the error rate improves when the digits are centered by bounding box rather than center of mass. If you do this kind of pre-processing, you should report it in your publications. The MNIST database was constructed from NIST's NIST originally designated SD-3 as their training set and SD-1 as their test set. However, SD-3 is much cleaner and easier to recognize than SD-1. The reason for this can be found on the fact that SD-3 was collected among Census Bureau employees, while SD-1 was collected among high-school students. Drawing sensible conclusions from learning experiments requires that the result be independent of the choice of training set and test among the complete set of samples. Therefore it was necessary to build a new database by mixing NIST's datasets.  \\n\\nThe MNIST training set is composed of 30,000 patterns from SD-3 and 30,000 patterns from SD-1. Our test set was composed of 5,000 patterns from SD-3 and 5,000 patterns from SD-1. The 60,000 pattern training set contained examples from approximately 250 writers. We made sure that the sets of writers of the training set and test set were disjoint. SD-1 contains 58,527 digit images written by 500 different writers. In contrast to SD-3, where blocks of data from each writer appeared in sequence, the data in SD-1 is scrambled. Writer identities for SD-1 is available and we used this information to unscramble the writers. We then split SD-1 in two: characters written by the first 250 writers went into our new training set. The remaining 250 writers were placed in our test set. Thus we had two sets with nearly 30,000 examples each. The new training set was completed with enough examples from SD-3, starting at pattern # 0, to make a full set of 60,000 training patterns. Similarly, the new test set was completed with SD-3 examples starting at pattern # 35,000 to make a full set with 60,000 test patterns. Only a subset of 10,000 test images (5,000 from SD-1 and 5,000 from SD-3) is available on this site. The full 60,000 sample training set is available.\\n\\nDownloaded from openml.org.\",\n",
              " 'categories': {},\n",
              " 'data': array([[0., 0., 0., ..., 0., 0., 0.],\n",
              "        [0., 0., 0., ..., 0., 0., 0.],\n",
              "        [0., 0., 0., ..., 0., 0., 0.],\n",
              "        ...,\n",
              "        [0., 0., 0., ..., 0., 0., 0.],\n",
              "        [0., 0., 0., ..., 0., 0., 0.],\n",
              "        [0., 0., 0., ..., 0., 0., 0.]]),\n",
              " 'details': {'creator': ['Yann LeCun',\n",
              "   'Corinna Cortes',\n",
              "   'Christopher J.C. Burges'],\n",
              "  'default_target_attribute': 'class',\n",
              "  'description_version': '1',\n",
              "  'file_id': '52667',\n",
              "  'format': 'ARFF',\n",
              "  'id': '554',\n",
              "  'language': 'English',\n",
              "  'licence': 'Public',\n",
              "  'md5_checksum': '0298d579eb1b86163de7723944c7e495',\n",
              "  'minio_url': 'http://openml1.win.tue.nl/dataset554/dataset_554.pq',\n",
              "  'name': 'mnist_784',\n",
              "  'processing_date': '2020-11-20 20:12:09',\n",
              "  'status': 'active',\n",
              "  'tag': ['AzurePilot',\n",
              "   'OpenML-CC18',\n",
              "   'OpenML100',\n",
              "   'study_1',\n",
              "   'study_123',\n",
              "   'study_41',\n",
              "   'study_99',\n",
              "   'vision'],\n",
              "  'upload_date': '2014-09-29T03:28:38',\n",
              "  'url': 'https://www.openml.org/data/v1/download/52667/mnist_784.arff',\n",
              "  'version': '1',\n",
              "  'visibility': 'public'},\n",
              " 'feature_names': ['pixel1',\n",
              "  'pixel2',\n",
              "  'pixel3',\n",
              "  'pixel4',\n",
              "  'pixel5',\n",
              "  'pixel6',\n",
              "  'pixel7',\n",
              "  'pixel8',\n",
              "  'pixel9',\n",
              "  'pixel10',\n",
              "  'pixel11',\n",
              "  'pixel12',\n",
              "  'pixel13',\n",
              "  'pixel14',\n",
              "  'pixel15',\n",
              "  'pixel16',\n",
              "  'pixel17',\n",
              "  'pixel18',\n",
              "  'pixel19',\n",
              "  'pixel20',\n",
              "  'pixel21',\n",
              "  'pixel22',\n",
              "  'pixel23',\n",
              "  'pixel24',\n",
              "  'pixel25',\n",
              "  'pixel26',\n",
              "  'pixel27',\n",
              "  'pixel28',\n",
              "  'pixel29',\n",
              "  'pixel30',\n",
              "  'pixel31',\n",
              "  'pixel32',\n",
              "  'pixel33',\n",
              "  'pixel34',\n",
              "  'pixel35',\n",
              "  'pixel36',\n",
              "  'pixel37',\n",
              "  'pixel38',\n",
              "  'pixel39',\n",
              "  'pixel40',\n",
              "  'pixel41',\n",
              "  'pixel42',\n",
              "  'pixel43',\n",
              "  'pixel44',\n",
              "  'pixel45',\n",
              "  'pixel46',\n",
              "  'pixel47',\n",
              "  'pixel48',\n",
              "  'pixel49',\n",
              "  'pixel50',\n",
              "  'pixel51',\n",
              "  'pixel52',\n",
              "  'pixel53',\n",
              "  'pixel54',\n",
              "  'pixel55',\n",
              "  'pixel56',\n",
              "  'pixel57',\n",
              "  'pixel58',\n",
              "  'pixel59',\n",
              "  'pixel60',\n",
              "  'pixel61',\n",
              "  'pixel62',\n",
              "  'pixel63',\n",
              "  'pixel64',\n",
              "  'pixel65',\n",
              "  'pixel66',\n",
              "  'pixel67',\n",
              "  'pixel68',\n",
              "  'pixel69',\n",
              "  'pixel70',\n",
              "  'pixel71',\n",
              "  'pixel72',\n",
              "  'pixel73',\n",
              "  'pixel74',\n",
              "  'pixel75',\n",
              "  'pixel76',\n",
              "  'pixel77',\n",
              "  'pixel78',\n",
              "  'pixel79',\n",
              "  'pixel80',\n",
              "  'pixel81',\n",
              "  'pixel82',\n",
              "  'pixel83',\n",
              "  'pixel84',\n",
              "  'pixel85',\n",
              "  'pixel86',\n",
              "  'pixel87',\n",
              "  'pixel88',\n",
              "  'pixel89',\n",
              "  'pixel90',\n",
              "  'pixel91',\n",
              "  'pixel92',\n",
              "  'pixel93',\n",
              "  'pixel94',\n",
              "  'pixel95',\n",
              "  'pixel96',\n",
              "  'pixel97',\n",
              "  'pixel98',\n",
              "  'pixel99',\n",
              "  'pixel100',\n",
              "  'pixel101',\n",
              "  'pixel102',\n",
              "  'pixel103',\n",
              "  'pixel104',\n",
              "  'pixel105',\n",
              "  'pixel106',\n",
              "  'pixel107',\n",
              "  'pixel108',\n",
              "  'pixel109',\n",
              "  'pixel110',\n",
              "  'pixel111',\n",
              "  'pixel112',\n",
              "  'pixel113',\n",
              "  'pixel114',\n",
              "  'pixel115',\n",
              "  'pixel116',\n",
              "  'pixel117',\n",
              "  'pixel118',\n",
              "  'pixel119',\n",
              "  'pixel120',\n",
              "  'pixel121',\n",
              "  'pixel122',\n",
              "  'pixel123',\n",
              "  'pixel124',\n",
              "  'pixel125',\n",
              "  'pixel126',\n",
              "  'pixel127',\n",
              "  'pixel128',\n",
              "  'pixel129',\n",
              "  'pixel130',\n",
              "  'pixel131',\n",
              "  'pixel132',\n",
              "  'pixel133',\n",
              "  'pixel134',\n",
              "  'pixel135',\n",
              "  'pixel136',\n",
              "  'pixel137',\n",
              "  'pixel138',\n",
              "  'pixel139',\n",
              "  'pixel140',\n",
              "  'pixel141',\n",
              "  'pixel142',\n",
              "  'pixel143',\n",
              "  'pixel144',\n",
              "  'pixel145',\n",
              "  'pixel146',\n",
              "  'pixel147',\n",
              "  'pixel148',\n",
              "  'pixel149',\n",
              "  'pixel150',\n",
              "  'pixel151',\n",
              "  'pixel152',\n",
              "  'pixel153',\n",
              "  'pixel154',\n",
              "  'pixel155',\n",
              "  'pixel156',\n",
              "  'pixel157',\n",
              "  'pixel158',\n",
              "  'pixel159',\n",
              "  'pixel160',\n",
              "  'pixel161',\n",
              "  'pixel162',\n",
              "  'pixel163',\n",
              "  'pixel164',\n",
              "  'pixel165',\n",
              "  'pixel166',\n",
              "  'pixel167',\n",
              "  'pixel168',\n",
              "  'pixel169',\n",
              "  'pixel170',\n",
              "  'pixel171',\n",
              "  'pixel172',\n",
              "  'pixel173',\n",
              "  'pixel174',\n",
              "  'pixel175',\n",
              "  'pixel176',\n",
              "  'pixel177',\n",
              "  'pixel178',\n",
              "  'pixel179',\n",
              "  'pixel180',\n",
              "  'pixel181',\n",
              "  'pixel182',\n",
              "  'pixel183',\n",
              "  'pixel184',\n",
              "  'pixel185',\n",
              "  'pixel186',\n",
              "  'pixel187',\n",
              "  'pixel188',\n",
              "  'pixel189',\n",
              "  'pixel190',\n",
              "  'pixel191',\n",
              "  'pixel192',\n",
              "  'pixel193',\n",
              "  'pixel194',\n",
              "  'pixel195',\n",
              "  'pixel196',\n",
              "  'pixel197',\n",
              "  'pixel198',\n",
              "  'pixel199',\n",
              "  'pixel200',\n",
              "  'pixel201',\n",
              "  'pixel202',\n",
              "  'pixel203',\n",
              "  'pixel204',\n",
              "  'pixel205',\n",
              "  'pixel206',\n",
              "  'pixel207',\n",
              "  'pixel208',\n",
              "  'pixel209',\n",
              "  'pixel210',\n",
              "  'pixel211',\n",
              "  'pixel212',\n",
              "  'pixel213',\n",
              "  'pixel214',\n",
              "  'pixel215',\n",
              "  'pixel216',\n",
              "  'pixel217',\n",
              "  'pixel218',\n",
              "  'pixel219',\n",
              "  'pixel220',\n",
              "  'pixel221',\n",
              "  'pixel222',\n",
              "  'pixel223',\n",
              "  'pixel224',\n",
              "  'pixel225',\n",
              "  'pixel226',\n",
              "  'pixel227',\n",
              "  'pixel228',\n",
              "  'pixel229',\n",
              "  'pixel230',\n",
              "  'pixel231',\n",
              "  'pixel232',\n",
              "  'pixel233',\n",
              "  'pixel234',\n",
              "  'pixel235',\n",
              "  'pixel236',\n",
              "  'pixel237',\n",
              "  'pixel238',\n",
              "  'pixel239',\n",
              "  'pixel240',\n",
              "  'pixel241',\n",
              "  'pixel242',\n",
              "  'pixel243',\n",
              "  'pixel244',\n",
              "  'pixel245',\n",
              "  'pixel246',\n",
              "  'pixel247',\n",
              "  'pixel248',\n",
              "  'pixel249',\n",
              "  'pixel250',\n",
              "  'pixel251',\n",
              "  'pixel252',\n",
              "  'pixel253',\n",
              "  'pixel254',\n",
              "  'pixel255',\n",
              "  'pixel256',\n",
              "  'pixel257',\n",
              "  'pixel258',\n",
              "  'pixel259',\n",
              "  'pixel260',\n",
              "  'pixel261',\n",
              "  'pixel262',\n",
              "  'pixel263',\n",
              "  'pixel264',\n",
              "  'pixel265',\n",
              "  'pixel266',\n",
              "  'pixel267',\n",
              "  'pixel268',\n",
              "  'pixel269',\n",
              "  'pixel270',\n",
              "  'pixel271',\n",
              "  'pixel272',\n",
              "  'pixel273',\n",
              "  'pixel274',\n",
              "  'pixel275',\n",
              "  'pixel276',\n",
              "  'pixel277',\n",
              "  'pixel278',\n",
              "  'pixel279',\n",
              "  'pixel280',\n",
              "  'pixel281',\n",
              "  'pixel282',\n",
              "  'pixel283',\n",
              "  'pixel284',\n",
              "  'pixel285',\n",
              "  'pixel286',\n",
              "  'pixel287',\n",
              "  'pixel288',\n",
              "  'pixel289',\n",
              "  'pixel290',\n",
              "  'pixel291',\n",
              "  'pixel292',\n",
              "  'pixel293',\n",
              "  'pixel294',\n",
              "  'pixel295',\n",
              "  'pixel296',\n",
              "  'pixel297',\n",
              "  'pixel298',\n",
              "  'pixel299',\n",
              "  'pixel300',\n",
              "  'pixel301',\n",
              "  'pixel302',\n",
              "  'pixel303',\n",
              "  'pixel304',\n",
              "  'pixel305',\n",
              "  'pixel306',\n",
              "  'pixel307',\n",
              "  'pixel308',\n",
              "  'pixel309',\n",
              "  'pixel310',\n",
              "  'pixel311',\n",
              "  'pixel312',\n",
              "  'pixel313',\n",
              "  'pixel314',\n",
              "  'pixel315',\n",
              "  'pixel316',\n",
              "  'pixel317',\n",
              "  'pixel318',\n",
              "  'pixel319',\n",
              "  'pixel320',\n",
              "  'pixel321',\n",
              "  'pixel322',\n",
              "  'pixel323',\n",
              "  'pixel324',\n",
              "  'pixel325',\n",
              "  'pixel326',\n",
              "  'pixel327',\n",
              "  'pixel328',\n",
              "  'pixel329',\n",
              "  'pixel330',\n",
              "  'pixel331',\n",
              "  'pixel332',\n",
              "  'pixel333',\n",
              "  'pixel334',\n",
              "  'pixel335',\n",
              "  'pixel336',\n",
              "  'pixel337',\n",
              "  'pixel338',\n",
              "  'pixel339',\n",
              "  'pixel340',\n",
              "  'pixel341',\n",
              "  'pixel342',\n",
              "  'pixel343',\n",
              "  'pixel344',\n",
              "  'pixel345',\n",
              "  'pixel346',\n",
              "  'pixel347',\n",
              "  'pixel348',\n",
              "  'pixel349',\n",
              "  'pixel350',\n",
              "  'pixel351',\n",
              "  'pixel352',\n",
              "  'pixel353',\n",
              "  'pixel354',\n",
              "  'pixel355',\n",
              "  'pixel356',\n",
              "  'pixel357',\n",
              "  'pixel358',\n",
              "  'pixel359',\n",
              "  'pixel360',\n",
              "  'pixel361',\n",
              "  'pixel362',\n",
              "  'pixel363',\n",
              "  'pixel364',\n",
              "  'pixel365',\n",
              "  'pixel366',\n",
              "  'pixel367',\n",
              "  'pixel368',\n",
              "  'pixel369',\n",
              "  'pixel370',\n",
              "  'pixel371',\n",
              "  'pixel372',\n",
              "  'pixel373',\n",
              "  'pixel374',\n",
              "  'pixel375',\n",
              "  'pixel376',\n",
              "  'pixel377',\n",
              "  'pixel378',\n",
              "  'pixel379',\n",
              "  'pixel380',\n",
              "  'pixel381',\n",
              "  'pixel382',\n",
              "  'pixel383',\n",
              "  'pixel384',\n",
              "  'pixel385',\n",
              "  'pixel386',\n",
              "  'pixel387',\n",
              "  'pixel388',\n",
              "  'pixel389',\n",
              "  'pixel390',\n",
              "  'pixel391',\n",
              "  'pixel392',\n",
              "  'pixel393',\n",
              "  'pixel394',\n",
              "  'pixel395',\n",
              "  'pixel396',\n",
              "  'pixel397',\n",
              "  'pixel398',\n",
              "  'pixel399',\n",
              "  'pixel400',\n",
              "  'pixel401',\n",
              "  'pixel402',\n",
              "  'pixel403',\n",
              "  'pixel404',\n",
              "  'pixel405',\n",
              "  'pixel406',\n",
              "  'pixel407',\n",
              "  'pixel408',\n",
              "  'pixel409',\n",
              "  'pixel410',\n",
              "  'pixel411',\n",
              "  'pixel412',\n",
              "  'pixel413',\n",
              "  'pixel414',\n",
              "  'pixel415',\n",
              "  'pixel416',\n",
              "  'pixel417',\n",
              "  'pixel418',\n",
              "  'pixel419',\n",
              "  'pixel420',\n",
              "  'pixel421',\n",
              "  'pixel422',\n",
              "  'pixel423',\n",
              "  'pixel424',\n",
              "  'pixel425',\n",
              "  'pixel426',\n",
              "  'pixel427',\n",
              "  'pixel428',\n",
              "  'pixel429',\n",
              "  'pixel430',\n",
              "  'pixel431',\n",
              "  'pixel432',\n",
              "  'pixel433',\n",
              "  'pixel434',\n",
              "  'pixel435',\n",
              "  'pixel436',\n",
              "  'pixel437',\n",
              "  'pixel438',\n",
              "  'pixel439',\n",
              "  'pixel440',\n",
              "  'pixel441',\n",
              "  'pixel442',\n",
              "  'pixel443',\n",
              "  'pixel444',\n",
              "  'pixel445',\n",
              "  'pixel446',\n",
              "  'pixel447',\n",
              "  'pixel448',\n",
              "  'pixel449',\n",
              "  'pixel450',\n",
              "  'pixel451',\n",
              "  'pixel452',\n",
              "  'pixel453',\n",
              "  'pixel454',\n",
              "  'pixel455',\n",
              "  'pixel456',\n",
              "  'pixel457',\n",
              "  'pixel458',\n",
              "  'pixel459',\n",
              "  'pixel460',\n",
              "  'pixel461',\n",
              "  'pixel462',\n",
              "  'pixel463',\n",
              "  'pixel464',\n",
              "  'pixel465',\n",
              "  'pixel466',\n",
              "  'pixel467',\n",
              "  'pixel468',\n",
              "  'pixel469',\n",
              "  'pixel470',\n",
              "  'pixel471',\n",
              "  'pixel472',\n",
              "  'pixel473',\n",
              "  'pixel474',\n",
              "  'pixel475',\n",
              "  'pixel476',\n",
              "  'pixel477',\n",
              "  'pixel478',\n",
              "  'pixel479',\n",
              "  'pixel480',\n",
              "  'pixel481',\n",
              "  'pixel482',\n",
              "  'pixel483',\n",
              "  'pixel484',\n",
              "  'pixel485',\n",
              "  'pixel486',\n",
              "  'pixel487',\n",
              "  'pixel488',\n",
              "  'pixel489',\n",
              "  'pixel490',\n",
              "  'pixel491',\n",
              "  'pixel492',\n",
              "  'pixel493',\n",
              "  'pixel494',\n",
              "  'pixel495',\n",
              "  'pixel496',\n",
              "  'pixel497',\n",
              "  'pixel498',\n",
              "  'pixel499',\n",
              "  'pixel500',\n",
              "  'pixel501',\n",
              "  'pixel502',\n",
              "  'pixel503',\n",
              "  'pixel504',\n",
              "  'pixel505',\n",
              "  'pixel506',\n",
              "  'pixel507',\n",
              "  'pixel508',\n",
              "  'pixel509',\n",
              "  'pixel510',\n",
              "  'pixel511',\n",
              "  'pixel512',\n",
              "  'pixel513',\n",
              "  'pixel514',\n",
              "  'pixel515',\n",
              "  'pixel516',\n",
              "  'pixel517',\n",
              "  'pixel518',\n",
              "  'pixel519',\n",
              "  'pixel520',\n",
              "  'pixel521',\n",
              "  'pixel522',\n",
              "  'pixel523',\n",
              "  'pixel524',\n",
              "  'pixel525',\n",
              "  'pixel526',\n",
              "  'pixel527',\n",
              "  'pixel528',\n",
              "  'pixel529',\n",
              "  'pixel530',\n",
              "  'pixel531',\n",
              "  'pixel532',\n",
              "  'pixel533',\n",
              "  'pixel534',\n",
              "  'pixel535',\n",
              "  'pixel536',\n",
              "  'pixel537',\n",
              "  'pixel538',\n",
              "  'pixel539',\n",
              "  'pixel540',\n",
              "  'pixel541',\n",
              "  'pixel542',\n",
              "  'pixel543',\n",
              "  'pixel544',\n",
              "  'pixel545',\n",
              "  'pixel546',\n",
              "  'pixel547',\n",
              "  'pixel548',\n",
              "  'pixel549',\n",
              "  'pixel550',\n",
              "  'pixel551',\n",
              "  'pixel552',\n",
              "  'pixel553',\n",
              "  'pixel554',\n",
              "  'pixel555',\n",
              "  'pixel556',\n",
              "  'pixel557',\n",
              "  'pixel558',\n",
              "  'pixel559',\n",
              "  'pixel560',\n",
              "  'pixel561',\n",
              "  'pixel562',\n",
              "  'pixel563',\n",
              "  'pixel564',\n",
              "  'pixel565',\n",
              "  'pixel566',\n",
              "  'pixel567',\n",
              "  'pixel568',\n",
              "  'pixel569',\n",
              "  'pixel570',\n",
              "  'pixel571',\n",
              "  'pixel572',\n",
              "  'pixel573',\n",
              "  'pixel574',\n",
              "  'pixel575',\n",
              "  'pixel576',\n",
              "  'pixel577',\n",
              "  'pixel578',\n",
              "  'pixel579',\n",
              "  'pixel580',\n",
              "  'pixel581',\n",
              "  'pixel582',\n",
              "  'pixel583',\n",
              "  'pixel584',\n",
              "  'pixel585',\n",
              "  'pixel586',\n",
              "  'pixel587',\n",
              "  'pixel588',\n",
              "  'pixel589',\n",
              "  'pixel590',\n",
              "  'pixel591',\n",
              "  'pixel592',\n",
              "  'pixel593',\n",
              "  'pixel594',\n",
              "  'pixel595',\n",
              "  'pixel596',\n",
              "  'pixel597',\n",
              "  'pixel598',\n",
              "  'pixel599',\n",
              "  'pixel600',\n",
              "  'pixel601',\n",
              "  'pixel602',\n",
              "  'pixel603',\n",
              "  'pixel604',\n",
              "  'pixel605',\n",
              "  'pixel606',\n",
              "  'pixel607',\n",
              "  'pixel608',\n",
              "  'pixel609',\n",
              "  'pixel610',\n",
              "  'pixel611',\n",
              "  'pixel612',\n",
              "  'pixel613',\n",
              "  'pixel614',\n",
              "  'pixel615',\n",
              "  'pixel616',\n",
              "  'pixel617',\n",
              "  'pixel618',\n",
              "  'pixel619',\n",
              "  'pixel620',\n",
              "  'pixel621',\n",
              "  'pixel622',\n",
              "  'pixel623',\n",
              "  'pixel624',\n",
              "  'pixel625',\n",
              "  'pixel626',\n",
              "  'pixel627',\n",
              "  'pixel628',\n",
              "  'pixel629',\n",
              "  'pixel630',\n",
              "  'pixel631',\n",
              "  'pixel632',\n",
              "  'pixel633',\n",
              "  'pixel634',\n",
              "  'pixel635',\n",
              "  'pixel636',\n",
              "  'pixel637',\n",
              "  'pixel638',\n",
              "  'pixel639',\n",
              "  'pixel640',\n",
              "  'pixel641',\n",
              "  'pixel642',\n",
              "  'pixel643',\n",
              "  'pixel644',\n",
              "  'pixel645',\n",
              "  'pixel646',\n",
              "  'pixel647',\n",
              "  'pixel648',\n",
              "  'pixel649',\n",
              "  'pixel650',\n",
              "  'pixel651',\n",
              "  'pixel652',\n",
              "  'pixel653',\n",
              "  'pixel654',\n",
              "  'pixel655',\n",
              "  'pixel656',\n",
              "  'pixel657',\n",
              "  'pixel658',\n",
              "  'pixel659',\n",
              "  'pixel660',\n",
              "  'pixel661',\n",
              "  'pixel662',\n",
              "  'pixel663',\n",
              "  'pixel664',\n",
              "  'pixel665',\n",
              "  'pixel666',\n",
              "  'pixel667',\n",
              "  'pixel668',\n",
              "  'pixel669',\n",
              "  'pixel670',\n",
              "  'pixel671',\n",
              "  'pixel672',\n",
              "  'pixel673',\n",
              "  'pixel674',\n",
              "  'pixel675',\n",
              "  'pixel676',\n",
              "  'pixel677',\n",
              "  'pixel678',\n",
              "  'pixel679',\n",
              "  'pixel680',\n",
              "  'pixel681',\n",
              "  'pixel682',\n",
              "  'pixel683',\n",
              "  'pixel684',\n",
              "  'pixel685',\n",
              "  'pixel686',\n",
              "  'pixel687',\n",
              "  'pixel688',\n",
              "  'pixel689',\n",
              "  'pixel690',\n",
              "  'pixel691',\n",
              "  'pixel692',\n",
              "  'pixel693',\n",
              "  'pixel694',\n",
              "  'pixel695',\n",
              "  'pixel696',\n",
              "  'pixel697',\n",
              "  'pixel698',\n",
              "  'pixel699',\n",
              "  'pixel700',\n",
              "  'pixel701',\n",
              "  'pixel702',\n",
              "  'pixel703',\n",
              "  'pixel704',\n",
              "  'pixel705',\n",
              "  'pixel706',\n",
              "  'pixel707',\n",
              "  'pixel708',\n",
              "  'pixel709',\n",
              "  'pixel710',\n",
              "  'pixel711',\n",
              "  'pixel712',\n",
              "  'pixel713',\n",
              "  'pixel714',\n",
              "  'pixel715',\n",
              "  'pixel716',\n",
              "  'pixel717',\n",
              "  'pixel718',\n",
              "  'pixel719',\n",
              "  'pixel720',\n",
              "  'pixel721',\n",
              "  'pixel722',\n",
              "  'pixel723',\n",
              "  'pixel724',\n",
              "  'pixel725',\n",
              "  'pixel726',\n",
              "  'pixel727',\n",
              "  'pixel728',\n",
              "  'pixel729',\n",
              "  'pixel730',\n",
              "  'pixel731',\n",
              "  'pixel732',\n",
              "  'pixel733',\n",
              "  'pixel734',\n",
              "  'pixel735',\n",
              "  'pixel736',\n",
              "  'pixel737',\n",
              "  'pixel738',\n",
              "  'pixel739',\n",
              "  'pixel740',\n",
              "  'pixel741',\n",
              "  'pixel742',\n",
              "  'pixel743',\n",
              "  'pixel744',\n",
              "  'pixel745',\n",
              "  'pixel746',\n",
              "  'pixel747',\n",
              "  'pixel748',\n",
              "  'pixel749',\n",
              "  'pixel750',\n",
              "  'pixel751',\n",
              "  'pixel752',\n",
              "  'pixel753',\n",
              "  'pixel754',\n",
              "  'pixel755',\n",
              "  'pixel756',\n",
              "  'pixel757',\n",
              "  'pixel758',\n",
              "  'pixel759',\n",
              "  'pixel760',\n",
              "  'pixel761',\n",
              "  'pixel762',\n",
              "  'pixel763',\n",
              "  'pixel764',\n",
              "  'pixel765',\n",
              "  'pixel766',\n",
              "  'pixel767',\n",
              "  'pixel768',\n",
              "  'pixel769',\n",
              "  'pixel770',\n",
              "  'pixel771',\n",
              "  'pixel772',\n",
              "  'pixel773',\n",
              "  'pixel774',\n",
              "  'pixel775',\n",
              "  'pixel776',\n",
              "  'pixel777',\n",
              "  'pixel778',\n",
              "  'pixel779',\n",
              "  'pixel780',\n",
              "  'pixel781',\n",
              "  'pixel782',\n",
              "  'pixel783',\n",
              "  'pixel784'],\n",
              " 'frame': None,\n",
              " 'target': array(['5', '0', '4', ..., '4', '5', '6'], dtype=object),\n",
              " 'target_names': ['class'],\n",
              " 'url': 'https://www.openml.org/d/554'}"
            ]
          },
          "metadata": {},
          "execution_count": 4
        }
      ]
    },
    {
      "cell_type": "code",
      "source": [
        "x, y = mnist['data'], mnist['target'] # x is array of input images and y is array of output/target \n"
      ],
      "metadata": {
        "id": "3DRrpDwqVesj"
      },
      "execution_count": 5,
      "outputs": []
    },
    {
      "cell_type": "code",
      "source": [
        "x\n"
      ],
      "metadata": {
        "colab": {
          "base_uri": "https://localhost:8080/"
        },
        "id": "Pf44fIrAV1Q4",
        "outputId": "5899c2a0-2073-40d2-e0f2-f0a6423e26fc"
      },
      "execution_count": 6,
      "outputs": [
        {
          "output_type": "execute_result",
          "data": {
            "text/plain": [
              "array([[0., 0., 0., ..., 0., 0., 0.],\n",
              "       [0., 0., 0., ..., 0., 0., 0.],\n",
              "       [0., 0., 0., ..., 0., 0., 0.],\n",
              "       ...,\n",
              "       [0., 0., 0., ..., 0., 0., 0.],\n",
              "       [0., 0., 0., ..., 0., 0., 0.],\n",
              "       [0., 0., 0., ..., 0., 0., 0.]])"
            ]
          },
          "metadata": {},
          "execution_count": 6
        }
      ]
    },
    {
      "cell_type": "code",
      "source": [
        "y"
      ],
      "metadata": {
        "colab": {
          "base_uri": "https://localhost:8080/"
        },
        "id": "QfPKhdg_V2NC",
        "outputId": "9b86d474-ca42-4afb-d7f4-6edffe114594"
      },
      "execution_count": 7,
      "outputs": [
        {
          "output_type": "execute_result",
          "data": {
            "text/plain": [
              "array(['5', '0', '4', ..., '4', '5', '6'], dtype=object)"
            ]
          },
          "metadata": {},
          "execution_count": 7
        }
      ]
    },
    {
      "cell_type": "code",
      "source": [
        "x.shape"
      ],
      "metadata": {
        "colab": {
          "base_uri": "https://localhost:8080/"
        },
        "id": "QMPIXoPwV3YJ",
        "outputId": "d5d87408-8754-4c7b-88cc-b9bf2b3ceeff"
      },
      "execution_count": 8,
      "outputs": [
        {
          "output_type": "execute_result",
          "data": {
            "text/plain": [
              "(70000, 784)"
            ]
          },
          "metadata": {},
          "execution_count": 8
        }
      ]
    },
    {
      "cell_type": "code",
      "source": [
        "y.shape"
      ],
      "metadata": {
        "colab": {
          "base_uri": "https://localhost:8080/"
        },
        "id": "VhmIsdAeV6KZ",
        "outputId": "589ada7f-6600-4bd0-b934-b337ee0ed94e"
      },
      "execution_count": 9,
      "outputs": [
        {
          "output_type": "execute_result",
          "data": {
            "text/plain": [
              "(70000,)"
            ]
          },
          "metadata": {},
          "execution_count": 9
        }
      ]
    },
    {
      "cell_type": "code",
      "source": [
        "#to show the graphs in the code output\n",
        "%matplotlib inline "
      ],
      "metadata": {
        "id": "6FLQeSUEV81a"
      },
      "execution_count": 10,
      "outputs": []
    },
    {
      "cell_type": "code",
      "source": [
        "import matplotlib\n",
        "import matplotlib.pyplot as plt\n"
      ],
      "metadata": {
        "id": "djkP8IOrWNuK"
      },
      "execution_count": 11,
      "outputs": []
    },
    {
      "cell_type": "code",
      "source": [
        "some_digit = x[36000] #selected one image at position 36001 from 70k images\n",
        "some_digit_image = some_digit.reshape(28,28) #it stores the data in 1D form thats why reshape it into 2d form"
      ],
      "metadata": {
        "id": "tJsfnbB-WU0i"
      },
      "execution_count": 12,
      "outputs": []
    },
    {
      "cell_type": "code",
      "source": [
        "plt.imshow(some_digit_image, cmap = matplotlib.cm.binary, interpolation = 'nearest')\n",
        "# imshow is used to show the image \n",
        "# cmap is the colour map used to decide the colours of the image. Examples: matplotlib.cm.viridis\n",
        "# Returned Colormaps or the cm are copies, so that their modification does not change the global definition of the colormap i.e. in the original dataset.\n",
        "# interpolation = 'none' works well when a big image is scaled down, while interpolation = 'nearest' works well when a small image is scaled up.\n"
      ],
      "metadata": {
        "colab": {
          "base_uri": "https://localhost:8080/",
          "height": 284
        },
        "id": "eVp7tvn3W-KD",
        "outputId": "99cdcb41-8187-4854-a68f-98f0f27b5b89"
      },
      "execution_count": 13,
      "outputs": [
        {
          "output_type": "execute_result",
          "data": {
            "text/plain": [
              "<matplotlib.image.AxesImage at 0x7fd62a75c450>"
            ]
          },
          "metadata": {},
          "execution_count": 13
        },
        {
          "output_type": "display_data",
          "data": {
            "text/plain": [
              "<Figure size 432x288 with 1 Axes>"
            ],
            "image/png": "[encoded data removed]"
          },
          "metadata": {
            "needs_background": "light"
          }
        }
      ]
    },
    {
      "cell_type": "markdown",
      "source": [
        "![image.png](data:image/png;base64,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)"
      ],
      "metadata": {
        "id": "VdZ6UiQ2ctya"
      }
    },
    {
      "cell_type": "code",
      "source": [
        "'''\n",
        "Step-1 divide dataset into train and test samples-\n",
        "\n",
        " 60000 in training set and 10000 in testing set\n",
        "'''\n",
        "x_train,x_test = x[:60000], x[60000:] "
      ],
      "metadata": {
        "id": "nR2Lr_KOETdk"
      },
      "execution_count": 14,
      "outputs": []
    },
    {
      "cell_type": "code",
      "source": [
        "y_train, y_test = y[:60000],y[60000:]"
      ],
      "metadata": {
        "id": "HMoK0u0PE8la"
      },
      "execution_count": 15,
      "outputs": []
    },
    {
      "cell_type": "code",
      "source": [
        "y_train"
      ],
      "metadata": {
        "colab": {
          "base_uri": "https://localhost:8080/"
        },
        "id": "Ut5DrIVvFbw_",
        "outputId": "a3eed38d-e90b-48c4-abac-97f700834ecc"
      },
      "execution_count": 16,
      "outputs": [
        {
          "output_type": "execute_result",
          "data": {
            "text/plain": [
              "array(['5', '0', '4', ..., '5', '6', '8'], dtype=object)"
            ]
          },
          "metadata": {},
          "execution_count": 16
        }
      ]
    },
    {
      "cell_type": "code",
      "source": [
        "y_test.shape"
      ],
      "metadata": {
        "colab": {
          "base_uri": "https://localhost:8080/"
        },
        "id": "44B-25sLFjaH",
        "outputId": "167d1c68-5c09-4068-baf2-29c5c7abbc15"
      },
      "execution_count": 17,
      "outputs": [
        {
          "output_type": "execute_result",
          "data": {
            "text/plain": [
              "(10000,)"
            ]
          },
          "metadata": {},
          "execution_count": 17
        }
      ]
    },
    {
      "cell_type": "code",
      "source": [
        "x_test.shape"
      ],
      "metadata": {
        "colab": {
          "base_uri": "https://localhost:8080/"
        },
        "id": "fMxC2UOVF8KD",
        "outputId": "28c112b0-4671-4122-95b9-d558257f5202"
      },
      "execution_count": 18,
      "outputs": [
        {
          "output_type": "execute_result",
          "data": {
            "text/plain": [
              "(10000, 784)"
            ]
          },
          "metadata": {},
          "execution_count": 18
        }
      ]
    },
    {
      "cell_type": "code",
      "source": [
        "import numpy as np\n",
        "shuffle_index = np.random.permutation(60000) #Shuffles the index of dataset\n",
        "x_train,y_train = x_train[shuffle_index], y_train[shuffle_index]"
      ],
      "metadata": {
        "id": "R5qeIGaeG9_k"
      },
      "execution_count": 28,
      "outputs": []
    },
    {
      "cell_type": "code",
      "source": [
        "y_train_9 = (y_train==9)\n",
        "y_test_9 = (y_test ==9)\n"
      ],
      "metadata": {
        "id": "1pjO3BvwHei2"
      },
      "execution_count": 29,
      "outputs": []
    },
    {
      "cell_type": "code",
      "source": [
        "y_train_9"
      ],
      "metadata": {
        "colab": {
          "base_uri": "https://localhost:8080/"
        },
        "id": "P5BXDfq8JBuf",
        "outputId": "78ac4bbc-1e46-4c13-af57-2a7fa24ed095"
      },
      "execution_count": 30,
      "outputs": [
        {
          "output_type": "execute_result",
          "data": {
            "text/plain": [
              "array([False, False, False, ..., False,  True, False])"
            ]
          },
          "metadata": {},
          "execution_count": 30
        }
      ]
    },
    {
      "cell_type": "code",
      "source": [
        "y_test_9"
      ],
      "metadata": {
        "colab": {
          "base_uri": "https://localhost:8080/"
        },
        "id": "CADdJS5wJC1O",
        "outputId": "c10057a3-9203-4649-85ca-6c2eee9eb530"
      },
      "execution_count": 31,
      "outputs": [
        {
          "output_type": "execute_result",
          "data": {
            "text/plain": [
              "array([False, False, False, ..., False, False, False])"
            ]
          },
          "metadata": {},
          "execution_count": 31
        }
      ]
    },
    {
      "cell_type": "code",
      "source": [
        "y_train = y_train.astype(np.int8) # Converting the datatype from object to int\n",
        "y_test = y_test.astype(np.int8)"
      ],
      "metadata": {
        "id": "6n04h-grJLx_"
      },
      "execution_count": 32,
      "outputs": []
    },
    {
      "cell_type": "code",
      "source": [
        "y_train"
      ],
      "metadata": {
        "colab": {
          "base_uri": "https://localhost:8080/"
        },
        "id": "yFVsNS_5NHfo",
        "outputId": "26b22373-789b-4c96-dfde-115e6f22526e"
      },
      "execution_count": 33,
      "outputs": [
        {
          "output_type": "execute_result",
          "data": {
            "text/plain": [
              "array([6, 4, 2, ..., 2, 9, 0], dtype=int8)"
            ]
          },
          "metadata": {},
          "execution_count": 33
        }
      ]
    },
    {
      "cell_type": "code",
      "source": [
        "from sklearn.linear_model import LogisticRegression\n",
        "reg = LogisticRegression(tol=0.1) #tolerence = 0.1 "
      ],
      "metadata": {
        "id": "SvqqgaKjNKs-"
      },
      "execution_count": 36,
      "outputs": []
    },
    {
      "cell_type": "code",
      "source": [
        "reg.fit(x_train, y_train)\n",
        "example = reg.predict([some_digit])\n",
        "print(example)"
      ],
      "metadata": {
        "colab": {
          "base_uri": "https://localhost:8080/"
        },
        "id": "Kbae09iTNUZg",
        "outputId": "3c89773a-d348-4dd1-b5ce-272088e91dc7"
      },
      "execution_count": 37,
      "outputs": [
        {
          "output_type": "stream",
          "name": "stdout",
          "text": [
            "[4]\n"
          ]
        },
        {
          "output_type": "stream",
          "name": "stderr",
          "text": [
            "/usr/local/lib/python3.7/dist-packages/sklearn/linear_model/_logistic.py:818: ConvergenceWarning: lbfgs failed to converge (status=1):\n",
            "STOP: TOTAL NO. of ITERATIONS REACHED LIMIT.\n",
            "\n",
            "Increase the number of iterations (max_iter) or scale the data as shown in:\n",
            "    https://scikit-learn.org/stable/modules/preprocessing.html\n",
            "Please also refer to the documentation for alternative solver options:\n",
            "    https://scikit-learn.org/stable/modules/linear_model.html#logistic-regression\n",
            "  extra_warning_msg=_LOGISTIC_SOLVER_CONVERGENCE_MSG,\n"
          ]
        }
      ]
    },
    {
      "cell_type": "code",
      "source": [
        "from sklearn.model_selection import cross_val_score\n",
        "a = cross_val_score(reg, x_train, y_train, cv = 3 , scoring = 'accuracy' )"
      ],
      "metadata": {
        "colab": {
          "base_uri": "https://localhost:8080/"
        },
        "id": "qMFMwFISElLK",
        "outputId": "dbd97013-7018-4c45-a06f-bfc806bff472"
      },
      "execution_count": 39,
      "outputs": [
        {
          "output_type": "stream",
          "name": "stderr",
          "text": [
            "/usr/local/lib/python3.7/dist-packages/sklearn/linear_model/_logistic.py:818: ConvergenceWarning: lbfgs failed to converge (status=1):\n",
            "STOP: TOTAL NO. of ITERATIONS REACHED LIMIT.\n",
            "\n",
            "Increase the number of iterations (max_iter) or scale the data as shown in:\n",
            "    https://scikit-learn.org/stable/modules/preprocessing.html\n",
            "Please also refer to the documentation for alternative solver options:\n",
            "    https://scikit-learn.org/stable/modules/linear_model.html#logistic-regression\n",
            "  extra_warning_msg=_LOGISTIC_SOLVER_CONVERGENCE_MSG,\n",
            "/usr/local/lib/python3.7/dist-packages/sklearn/linear_model/_logistic.py:818: ConvergenceWarning: lbfgs failed to converge (status=1):\n",
            "STOP: TOTAL NO. of ITERATIONS REACHED LIMIT.\n",
            "\n",
            "Increase the number of iterations (max_iter) or scale the data as shown in:\n",
            "    https://scikit-learn.org/stable/modules/preprocessing.html\n",
            "Please also refer to the documentation for alternative solver options:\n",
            "    https://scikit-learn.org/stable/modules/linear_model.html#logistic-regression\n",
            "  extra_warning_msg=_LOGISTIC_SOLVER_CONVERGENCE_MSG,\n",
            "/usr/local/lib/python3.7/dist-packages/sklearn/linear_model/_logistic.py:818: ConvergenceWarning: lbfgs failed to converge (status=1):\n",
            "STOP: TOTAL NO. of ITERATIONS REACHED LIMIT.\n",
            "\n",
            "Increase the number of iterations (max_iter) or scale the data as shown in:\n",
            "    https://scikit-learn.org/stable/modules/preprocessing.html\n",
            "Please also refer to the documentation for alternative solver options:\n",
            "    https://scikit-learn.org/stable/modules/linear_model.html#logistic-regression\n",
            "  extra_warning_msg=_LOGISTIC_SOLVER_CONVERGENCE_MSG,\n"
          ]
        }
      ]
    },
    {
      "cell_type": "code",
      "source": [
        "a.mean()"
      ],
      "metadata": {
        "id": "HXJxLL44GIVN",
        "outputId": "8ce66cd9-28ce-4c0c-b1f9-d871d89eefa3",
        "colab": {
          "base_uri": "https://localhost:8080/"
        }
      },
      "execution_count": 40,
      "outputs": [
        {
          "output_type": "execute_result",
          "data": {
            "text/plain": [
              "0.9165333333333333"
            ]
          },
          "metadata": {},
          "execution_count": 40
        }
      ]
    }
  ]
}